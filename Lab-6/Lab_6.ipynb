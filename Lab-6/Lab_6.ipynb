{
  "nbformat": 4,
  "nbformat_minor": 0,
  "metadata": {
    "colab": {
      "name": "Lab-6.ipynb",
      "provenance": [],
      "collapsed_sections": []
    },
    "kernelspec": {
      "name": "python3",
      "display_name": "Python 3"
    },
    "language_info": {
      "name": "python"
    }
  },
  "cells": [
    {
      "cell_type": "code",
      "metadata": {
        "id": "YnMElwlqdz-Z"
      },
      "source": [
        "import pandas as pd\n",
        "import math\n",
        "import numpy as np\n",
        "from sklearn.datasets import fetch_20newsgroups\n",
        "import matplotlib.pyplot as plt\n",
        "from string import punctuation\n",
        "import nltk\n",
        "from google.colab import drive\n",
        "pi = math.pi"
      ],
      "execution_count": 1,
      "outputs": []
    },
    {
      "cell_type": "code",
      "metadata": {
        "colab": {
          "base_uri": "https://localhost:8080/"
        },
        "id": "SH79qGM4hlSq",
        "outputId": "867445c4-7821-40ac-e265-1a1179a140ce"
      },
      "source": [
        "drive.mount('/content/drive')\n",
        "\n"
      ],
      "execution_count": 2,
      "outputs": [
        {
          "output_type": "stream",
          "name": "stdout",
          "text": [
            "Mounted at /content/drive\n"
          ]
        }
      ]
    },
    {
      "cell_type": "code",
      "metadata": {
        "id": "io4EqxwiqVLS"
      },
      "source": [
        "newsgroups_train = fetch_20newsgroups(subset='train')\n"
      ],
      "execution_count": 3,
      "outputs": []
    },
    {
      "cell_type": "code",
      "metadata": {
        "id": "iMvhnb1FvdV7"
      },
      "source": [
        "data=newsgroups_train['data']"
      ],
      "execution_count": 4,
      "outputs": []
    },
    {
      "cell_type": "code",
      "metadata": {
        "colab": {
          "base_uri": "https://localhost:8080/"
        },
        "id": "VgEFMaBdgNi4",
        "outputId": "b63c254f-67fd-4bad-99c9-bb8274020a6b"
      },
      "source": [
        "nltk.download('stopwords')"
      ],
      "execution_count": 5,
      "outputs": [
        {
          "output_type": "stream",
          "name": "stdout",
          "text": [
            "[nltk_data] Downloading package stopwords to /root/nltk_data...\n",
            "[nltk_data]   Unzipping corpora/stopwords.zip.\n"
          ]
        },
        {
          "output_type": "execute_result",
          "data": {
            "text/plain": [
              "True"
            ]
          },
          "metadata": {},
          "execution_count": 5
        }
      ]
    },
    {
      "cell_type": "code",
      "metadata": {
        "id": "RApII2DG7TmY"
      },
      "source": [
        "\n",
        "\n",
        "inp = ['/content/drive/MyDrive/IR/Doc1.txt','/content/drive/MyDrive/IR/Doc2.txt',\n",
        "'/content/drive/MyDrive/IR/Doc3.txt','/content/drive/MyDrive/IR/Doc4.txt',\n",
        "'/content/drive/MyDrive/IR/Doc5.txt']\n"
      ],
      "execution_count": 6,
      "outputs": []
    },
    {
      "cell_type": "code",
      "metadata": {
        "id": "ANnf5OWjffdi"
      },
      "source": [
        "def rem_punct(s):\n",
        "    '''\n",
        "    Parameter: \n",
        "        s - string\n",
        "    Process:\n",
        "        First we initialize an empty output string str1.\n",
        "        The function iterates through s and if the character is not a punctation, \n",
        "        it is added to the outpur string str1.\n",
        "    Output:\n",
        "        str1 - string\n",
        "    '''\n",
        "    str1 = ''\n",
        "    for char in s:\n",
        "        if(char not in punctuation):\n",
        "            str1 = str1 + char\n",
        "    return str1\n",
        "\n",
        "def rem_nums(s):\n",
        "    '''\n",
        "    Parameter: \n",
        "        s - string\n",
        "    Process:\n",
        "        First we initialize an empty output string str1.\n",
        "        The function iterates through s and if the character is not a number, \n",
        "        it is added to the outpur string str1.\n",
        "    Output:\n",
        "        str1 - string\n",
        "    '''\n",
        "    str1 = ''\n",
        "    for num in s:\n",
        "        if(not num.isdigit()):\n",
        "            str1 = str1 + num\n",
        "    return str1\n"
      ],
      "execution_count": 7,
      "outputs": []
    },
    {
      "cell_type": "code",
      "metadata": {
        "colab": {
          "base_uri": "https://localhost:8080/"
        },
        "id": "dhYWgRWJh0pZ",
        "outputId": "af4f3dd0-1c35-4b23-87a9-7e48b480efe9"
      },
      "source": [
        "\n",
        "\n",
        "docs = len(inp) #number of documents\n",
        "store =[] #list of content of all docs. stored as a string \n",
        "#store=newsgroups_train['data'][0:100]\n",
        "\n",
        "for i in range(len(inp)):\n",
        "    file = open(inp[i],'r')\n",
        "    string = ''\n",
        "    while 1: \n",
        "        # read by character \n",
        "        char = file.read(1)\n",
        "        if char!='\\n':\n",
        "            string+=char\n",
        "        if not char:  \n",
        "            break\n",
        "    store.append(string)\n",
        "    file.close\n",
        "\n",
        "\n",
        "\n",
        "stopwords = nltk.corpus.stopwords.words('english')\n",
        "\n",
        "all_docs = []\n",
        "for string in store:\n",
        "    string = rem_punct(rem_nums(string).lower())\n",
        "    string = string.split(\" \")\n",
        "    all_docs.append(string)\n",
        "\n",
        "bow=[] #bag of words\n",
        "for j in range(docs):\n",
        "    temp = []\n",
        "    for i in all_docs[j]: #all_docs[j] is the jth document's list of words\n",
        "        if i not in stopwords and len(i)>0 and i!=None:\n",
        "            temp.append(i)\n",
        "            #print(i)\n",
        "    bow.append(temp)\n",
        "print(bow)"
      ],
      "execution_count": 8,
      "outputs": [
        {
          "output_type": "stream",
          "name": "stdout",
          "text": [
            "[['mistaken', 'idea', 'denouncing', 'pleasure', 'praising', 'pain', 'born', 'give', 'complete', 'account', 'system'], ['european', 'languages', 'members', 'family'], ['far', 'far', 'away', 'behind', 'word', 'mountains', 'far', 'countries', 'vokalia', 'consonantia', 'live', 'blind', 'texts'], ['wonderful', 'serenity', 'taken', 'possession', 'entire', 'soul', 'like', 'sweet', 'mornings', 'spring', 'enjoy', 'whole', 'heart'], ['quick', 'brown', 'fox', 'jumps', 'lazy', 'dog', 'djs', 'flock', 'mtv', 'ax', 'quiz', 'prog']]\n"
          ]
        }
      ]
    },
    {
      "cell_type": "code",
      "metadata": {
        "colab": {
          "base_uri": "https://localhost:8080/"
        },
        "id": "z6_BYNYhflT3",
        "outputId": "de7afada-e830-4d6d-fb70-dae6af7d711c"
      },
      "source": [
        "\n",
        "def unique(bow):\n",
        "    '''\n",
        "    Parameter: \n",
        "        bow - 2D list\n",
        "    Process:\n",
        "        a is initialized as first list of bow\n",
        "        \n",
        "        The function iterates through all other lists and sets\n",
        "        a = union(a,cur_list)\n",
        "        Here cur_list is the iterator\n",
        "    Output:\n",
        "        a - set of all unique words in bow\n",
        "    '''\n",
        "    a = bow[0]\n",
        "    for i in range(1,len(bow)):\n",
        "        a = set(a).union(set(bow[i]))\n",
        "    print(a)\n",
        "    return a\n",
        "\n",
        "wordset = unique(bow)\n"
      ],
      "execution_count": 9,
      "outputs": [
        {
          "output_type": "stream",
          "name": "stdout",
          "text": [
            "{'system', 'fox', 'soul', 'taken', 'away', 'family', 'blind', 'account', 'born', 'live', 'praising', 'serenity', 'vokalia', 'heart', 'prog', 'djs', 'countries', 'jumps', 'quiz', 'mistaken', 'consonantia', 'wonderful', 'dog', 'complete', 'like', 'sweet', 'pain', 'ax', 'whole', 'behind', 'denouncing', 'members', 'possession', 'mornings', 'quick', 'enjoy', 'texts', 'mtv', 'idea', 'european', 'word', 'give', 'mountains', 'far', 'brown', 'spring', 'lazy', 'pleasure', 'languages', 'entire', 'flock'}\n"
          ]
        }
      ]
    },
    {
      "cell_type": "code",
      "metadata": {
        "id": "QYJatRfvfrDk"
      },
      "source": [
        "def term_document_matrix():\n",
        "    '''\n",
        "    Parameter: \n",
        "        Nothing\n",
        "    Process:\n",
        "        Iterates through bow and worddict at the same time \n",
        "        bow - 2D list  (iterator is bow_i)\n",
        "        worddict = list of dictionaries    (iterator is worddict_i)\n",
        "        increments value of each word found in bow_i\n",
        "    Output:\n",
        "        pandas dataframe\n",
        "    '''\n",
        "    for bow_i,worddict_i in zip(bow,worddict): #zip takes first row of bow and key of worddict\n",
        "        for word in bow_i:\n",
        "            worddict_i[word]+=1 #increments value of each word when found in the document\n",
        "        \n",
        "    return pd.DataFrame(worddict)\n",
        "#The above function returns a document term matrix.\n",
        "#from this we get number of times a unique word is found in each document respectively.\n"
      ],
      "execution_count": 10,
      "outputs": []
    },
    {
      "cell_type": "code",
      "metadata": {
        "colab": {
          "base_uri": "https://localhost:8080/"
        },
        "id": "i3CP8vRPiTug",
        "outputId": "113444ac-0eb9-40f4-86ce-d65c410a6b0f"
      },
      "source": [
        "\n",
        "\n",
        "worddict = [dict.fromkeys(wordset,0) for i in range(len(bow))]\n",
        "docterm = term_document_matrix()\n",
        "print(docterm)"
      ],
      "execution_count": 11,
      "outputs": [
        {
          "output_type": "stream",
          "name": "stdout",
          "text": [
            "   system  fox  soul  taken  away  ...  lazy  pleasure  languages  entire  flock\n",
            "0       1    0     0      0     0  ...     0         1          0       0      0\n",
            "1       0    0     0      0     0  ...     0         0          1       0      0\n",
            "2       0    0     0      0     1  ...     0         0          0       0      0\n",
            "3       0    0     1      1     0  ...     0         0          0       1      0\n",
            "4       0    1     0      0     0  ...     1         0          0       0      1\n",
            "\n",
            "[5 rows x 51 columns]\n"
          ]
        }
      ]
    },
    {
      "cell_type": "code",
      "metadata": {
        "id": "FmxrsTWhfxvM"
      },
      "source": [
        "def term_freq(worddict,bow):\n",
        "    '''\n",
        "    Parameter: \n",
        "        worddict - dictionary\n",
        "        bow - list of strings \n",
        "    Process:\n",
        "        initialize empty dictionary called tfdict\n",
        "        bowcount = number of elements(words) in bow\n",
        "        traverse through key value pairs of worddict\n",
        "        Here,\n",
        "            word - key\n",
        "            count - value\n",
        "        Divide count of a word by total number of elements in that document and store it as a \n",
        "        key value pair in tfdict\n",
        "    Output:\n",
        "        tfdict - dictionary\n",
        "    '''\n",
        "    #here worddict is a single dictionary. NOT A LIST OF DICTIONARIES\n",
        "    #bow is a single list. NOT A NESTED LIST\n",
        "    tfdict = {} #tfdict -- term frequency dict\n",
        "    bowcount = len(bow) #bowcount = total number of words in the document \n",
        "    for word,count in worddict.items(): \n",
        "        tfdict[word] = count/float(bowcount)\n",
        "    return tfdict\n"
      ],
      "execution_count": 12,
      "outputs": []
    },
    {
      "cell_type": "code",
      "metadata": {
        "colab": {
          "base_uri": "https://localhost:8080/"
        },
        "id": "Yw27iP9AjoBp",
        "outputId": "6c862041-c6dc-4dd7-f044-505caf5e85ba"
      },
      "source": [
        "tfbow = []\n",
        "for i,j in zip(worddict,bow): #worddict is a list of dictionaries\n",
        "    tfbow.append(term_freq(i,j))\n",
        "\n",
        "#tfbow is a list of dictionaries. ith dictionary in tfbow is the tfdict of ith document \n",
        "\n",
        "print(tfbow)"
      ],
      "execution_count": 13,
      "outputs": [
        {
          "output_type": "stream",
          "name": "stdout",
          "text": [
            "[{'system': 0.09090909090909091, 'fox': 0.0, 'soul': 0.0, 'taken': 0.0, 'away': 0.0, 'family': 0.0, 'blind': 0.0, 'account': 0.09090909090909091, 'born': 0.09090909090909091, 'live': 0.0, 'praising': 0.09090909090909091, 'serenity': 0.0, 'vokalia': 0.0, 'heart': 0.0, 'prog': 0.0, 'djs': 0.0, 'countries': 0.0, 'jumps': 0.0, 'quiz': 0.0, 'mistaken': 0.09090909090909091, 'consonantia': 0.0, 'wonderful': 0.0, 'dog': 0.0, 'complete': 0.09090909090909091, 'like': 0.0, 'sweet': 0.0, 'pain': 0.09090909090909091, 'ax': 0.0, 'whole': 0.0, 'behind': 0.0, 'denouncing': 0.09090909090909091, 'members': 0.0, 'possession': 0.0, 'mornings': 0.0, 'quick': 0.0, 'enjoy': 0.0, 'texts': 0.0, 'mtv': 0.0, 'idea': 0.09090909090909091, 'european': 0.0, 'word': 0.0, 'give': 0.09090909090909091, 'mountains': 0.0, 'far': 0.0, 'brown': 0.0, 'spring': 0.0, 'lazy': 0.0, 'pleasure': 0.09090909090909091, 'languages': 0.0, 'entire': 0.0, 'flock': 0.0}, {'system': 0.0, 'fox': 0.0, 'soul': 0.0, 'taken': 0.0, 'away': 0.0, 'family': 0.25, 'blind': 0.0, 'account': 0.0, 'born': 0.0, 'live': 0.0, 'praising': 0.0, 'serenity': 0.0, 'vokalia': 0.0, 'heart': 0.0, 'prog': 0.0, 'djs': 0.0, 'countries': 0.0, 'jumps': 0.0, 'quiz': 0.0, 'mistaken': 0.0, 'consonantia': 0.0, 'wonderful': 0.0, 'dog': 0.0, 'complete': 0.0, 'like': 0.0, 'sweet': 0.0, 'pain': 0.0, 'ax': 0.0, 'whole': 0.0, 'behind': 0.0, 'denouncing': 0.0, 'members': 0.25, 'possession': 0.0, 'mornings': 0.0, 'quick': 0.0, 'enjoy': 0.0, 'texts': 0.0, 'mtv': 0.0, 'idea': 0.0, 'european': 0.25, 'word': 0.0, 'give': 0.0, 'mountains': 0.0, 'far': 0.0, 'brown': 0.0, 'spring': 0.0, 'lazy': 0.0, 'pleasure': 0.0, 'languages': 0.25, 'entire': 0.0, 'flock': 0.0}, {'system': 0.0, 'fox': 0.0, 'soul': 0.0, 'taken': 0.0, 'away': 0.07692307692307693, 'family': 0.0, 'blind': 0.07692307692307693, 'account': 0.0, 'born': 0.0, 'live': 0.07692307692307693, 'praising': 0.0, 'serenity': 0.0, 'vokalia': 0.07692307692307693, 'heart': 0.0, 'prog': 0.0, 'djs': 0.0, 'countries': 0.07692307692307693, 'jumps': 0.0, 'quiz': 0.0, 'mistaken': 0.0, 'consonantia': 0.07692307692307693, 'wonderful': 0.0, 'dog': 0.0, 'complete': 0.0, 'like': 0.0, 'sweet': 0.0, 'pain': 0.0, 'ax': 0.0, 'whole': 0.0, 'behind': 0.07692307692307693, 'denouncing': 0.0, 'members': 0.0, 'possession': 0.0, 'mornings': 0.0, 'quick': 0.0, 'enjoy': 0.0, 'texts': 0.07692307692307693, 'mtv': 0.0, 'idea': 0.0, 'european': 0.0, 'word': 0.07692307692307693, 'give': 0.0, 'mountains': 0.07692307692307693, 'far': 0.23076923076923078, 'brown': 0.0, 'spring': 0.0, 'lazy': 0.0, 'pleasure': 0.0, 'languages': 0.0, 'entire': 0.0, 'flock': 0.0}, {'system': 0.0, 'fox': 0.0, 'soul': 0.07692307692307693, 'taken': 0.07692307692307693, 'away': 0.0, 'family': 0.0, 'blind': 0.0, 'account': 0.0, 'born': 0.0, 'live': 0.0, 'praising': 0.0, 'serenity': 0.07692307692307693, 'vokalia': 0.0, 'heart': 0.07692307692307693, 'prog': 0.0, 'djs': 0.0, 'countries': 0.0, 'jumps': 0.0, 'quiz': 0.0, 'mistaken': 0.0, 'consonantia': 0.0, 'wonderful': 0.07692307692307693, 'dog': 0.0, 'complete': 0.0, 'like': 0.07692307692307693, 'sweet': 0.07692307692307693, 'pain': 0.0, 'ax': 0.0, 'whole': 0.07692307692307693, 'behind': 0.0, 'denouncing': 0.0, 'members': 0.0, 'possession': 0.07692307692307693, 'mornings': 0.07692307692307693, 'quick': 0.0, 'enjoy': 0.07692307692307693, 'texts': 0.0, 'mtv': 0.0, 'idea': 0.0, 'european': 0.0, 'word': 0.0, 'give': 0.0, 'mountains': 0.0, 'far': 0.0, 'brown': 0.0, 'spring': 0.07692307692307693, 'lazy': 0.0, 'pleasure': 0.0, 'languages': 0.0, 'entire': 0.07692307692307693, 'flock': 0.0}, {'system': 0.0, 'fox': 0.08333333333333333, 'soul': 0.0, 'taken': 0.0, 'away': 0.0, 'family': 0.0, 'blind': 0.0, 'account': 0.0, 'born': 0.0, 'live': 0.0, 'praising': 0.0, 'serenity': 0.0, 'vokalia': 0.0, 'heart': 0.0, 'prog': 0.08333333333333333, 'djs': 0.08333333333333333, 'countries': 0.0, 'jumps': 0.08333333333333333, 'quiz': 0.08333333333333333, 'mistaken': 0.0, 'consonantia': 0.0, 'wonderful': 0.0, 'dog': 0.08333333333333333, 'complete': 0.0, 'like': 0.0, 'sweet': 0.0, 'pain': 0.0, 'ax': 0.08333333333333333, 'whole': 0.0, 'behind': 0.0, 'denouncing': 0.0, 'members': 0.0, 'possession': 0.0, 'mornings': 0.0, 'quick': 0.08333333333333333, 'enjoy': 0.0, 'texts': 0.0, 'mtv': 0.08333333333333333, 'idea': 0.0, 'european': 0.0, 'word': 0.0, 'give': 0.0, 'mountains': 0.0, 'far': 0.0, 'brown': 0.08333333333333333, 'spring': 0.0, 'lazy': 0.08333333333333333, 'pleasure': 0.0, 'languages': 0.0, 'entire': 0.0, 'flock': 0.08333333333333333}]\n"
          ]
        }
      ]
    },
    {
      "cell_type": "code",
      "metadata": {
        "id": "Wq8lI5AXf4N5"
      },
      "source": [
        "def idf(doclist):\n",
        "    '''\n",
        "    Parameters:\n",
        "        doclist - list of dictionaries \n",
        "    Process:\n",
        "        returns a dictionary containing key value pairs of words and number of documents\n",
        "        that words occurs in. \n",
        "        The process is described in detail below.\n",
        "    Output:\n",
        "        idfdict - dictionary \n",
        "    '''\n",
        "    idfdict={}\n",
        "    n = len(doclist)\n",
        "    idfdict = dict.fromkeys(doclist[0].keys(),0)\n",
        "    #initializes idfdict as a dictionary which has same keys as doclist[0] and value of each key is 0\n",
        "    for doc in doclist:\n",
        "        for word,val in doc.items():\n",
        "            if val>0:\n",
        "                idfdict[word]+=1\n",
        "    #now idfdict has total occurences of each word in all of the documents\n",
        "    #note that multiple occurences of a word in one document is considered as 1\n",
        "    #hence if value of a key is... for eg: {'king':2,....} \n",
        "    #this means that the word king has appeared in 2 documents\n",
        "    for word,val in idfdict.items():\n",
        "        idfdict[word]=math.log(n/float(val)) \n",
        "        #computes log (total num of documents/no. of documents that contain a particular word)n\n",
        "    return idfdict\n"
      ],
      "execution_count": 14,
      "outputs": []
    },
    {
      "cell_type": "code",
      "metadata": {
        "colab": {
          "base_uri": "https://localhost:8080/"
        },
        "id": "PVOYqvLJjy_1",
        "outputId": "169cfbf6-a17b-4149-a2d8-ec8a4b9539f0"
      },
      "source": [
        "\n",
        "idfs = idf(worddict) #stores idf value of all words\n",
        "print(idfs)"
      ],
      "execution_count": 15,
      "outputs": [
        {
          "output_type": "stream",
          "name": "stdout",
          "text": [
            "{'system': 1.6094379124341003, 'fox': 1.6094379124341003, 'soul': 1.6094379124341003, 'taken': 1.6094379124341003, 'away': 1.6094379124341003, 'family': 1.6094379124341003, 'blind': 1.6094379124341003, 'account': 1.6094379124341003, 'born': 1.6094379124341003, 'live': 1.6094379124341003, 'praising': 1.6094379124341003, 'serenity': 1.6094379124341003, 'vokalia': 1.6094379124341003, 'heart': 1.6094379124341003, 'prog': 1.6094379124341003, 'djs': 1.6094379124341003, 'countries': 1.6094379124341003, 'jumps': 1.6094379124341003, 'quiz': 1.6094379124341003, 'mistaken': 1.6094379124341003, 'consonantia': 1.6094379124341003, 'wonderful': 1.6094379124341003, 'dog': 1.6094379124341003, 'complete': 1.6094379124341003, 'like': 1.6094379124341003, 'sweet': 1.6094379124341003, 'pain': 1.6094379124341003, 'ax': 1.6094379124341003, 'whole': 1.6094379124341003, 'behind': 1.6094379124341003, 'denouncing': 1.6094379124341003, 'members': 1.6094379124341003, 'possession': 1.6094379124341003, 'mornings': 1.6094379124341003, 'quick': 1.6094379124341003, 'enjoy': 1.6094379124341003, 'texts': 1.6094379124341003, 'mtv': 1.6094379124341003, 'idea': 1.6094379124341003, 'european': 1.6094379124341003, 'word': 1.6094379124341003, 'give': 1.6094379124341003, 'mountains': 1.6094379124341003, 'far': 1.6094379124341003, 'brown': 1.6094379124341003, 'spring': 1.6094379124341003, 'lazy': 1.6094379124341003, 'pleasure': 1.6094379124341003, 'languages': 1.6094379124341003, 'entire': 1.6094379124341003, 'flock': 1.6094379124341003}\n"
          ]
        }
      ]
    },
    {
      "cell_type": "code",
      "metadata": {
        "id": "fS6EdgdGgB1o"
      },
      "source": [
        "def tfidf(tfbow_dict,idfs):\n",
        "    '''\n",
        "    Parameter: \n",
        "        tfbow_dict - dictionary \n",
        "        idfs - dictionary\n",
        "    Process:\n",
        "        multiplies term frequency with idf of each term \n",
        "    Output: \n",
        "        tfidf - dictionary\n",
        "    '''\n",
        "    tfidf = {}\n",
        "    for word,val in tfbow_dict.items():\n",
        "        tfidf[word]=val*idfs[word] #multiply term freq with idf for each term \n",
        "    return tfidf\n"
      ],
      "execution_count": 16,
      "outputs": []
    },
    {
      "cell_type": "code",
      "metadata": {
        "colab": {
          "base_uri": "https://localhost:8080/"
        },
        "id": "fmwNmU1ikLNr",
        "outputId": "7b4e5350-b687-4dc6-9c9b-b1aaf8d724f9"
      },
      "source": [
        "\n",
        "tfidfl = [] \n",
        "for i in tfbow:\n",
        "    tfidfl.append(tfidf(i,idfs))  \n",
        "#Above loop iterates through list of dictionaries tfbow. \n",
        "#Appends output of tfidf function(a dictionary) to tfidfl\n",
        "print(tfidfl)"
      ],
      "execution_count": 17,
      "outputs": [
        {
          "output_type": "stream",
          "name": "stdout",
          "text": [
            "[{'system': 0.14631253749400913, 'fox': 0.0, 'soul': 0.0, 'taken': 0.0, 'away': 0.0, 'family': 0.0, 'blind': 0.0, 'account': 0.14631253749400913, 'born': 0.14631253749400913, 'live': 0.0, 'praising': 0.14631253749400913, 'serenity': 0.0, 'vokalia': 0.0, 'heart': 0.0, 'prog': 0.0, 'djs': 0.0, 'countries': 0.0, 'jumps': 0.0, 'quiz': 0.0, 'mistaken': 0.14631253749400913, 'consonantia': 0.0, 'wonderful': 0.0, 'dog': 0.0, 'complete': 0.14631253749400913, 'like': 0.0, 'sweet': 0.0, 'pain': 0.14631253749400913, 'ax': 0.0, 'whole': 0.0, 'behind': 0.0, 'denouncing': 0.14631253749400913, 'members': 0.0, 'possession': 0.0, 'mornings': 0.0, 'quick': 0.0, 'enjoy': 0.0, 'texts': 0.0, 'mtv': 0.0, 'idea': 0.14631253749400913, 'european': 0.0, 'word': 0.0, 'give': 0.14631253749400913, 'mountains': 0.0, 'far': 0.0, 'brown': 0.0, 'spring': 0.0, 'lazy': 0.0, 'pleasure': 0.14631253749400913, 'languages': 0.0, 'entire': 0.0, 'flock': 0.0}, {'system': 0.0, 'fox': 0.0, 'soul': 0.0, 'taken': 0.0, 'away': 0.0, 'family': 0.40235947810852507, 'blind': 0.0, 'account': 0.0, 'born': 0.0, 'live': 0.0, 'praising': 0.0, 'serenity': 0.0, 'vokalia': 0.0, 'heart': 0.0, 'prog': 0.0, 'djs': 0.0, 'countries': 0.0, 'jumps': 0.0, 'quiz': 0.0, 'mistaken': 0.0, 'consonantia': 0.0, 'wonderful': 0.0, 'dog': 0.0, 'complete': 0.0, 'like': 0.0, 'sweet': 0.0, 'pain': 0.0, 'ax': 0.0, 'whole': 0.0, 'behind': 0.0, 'denouncing': 0.0, 'members': 0.40235947810852507, 'possession': 0.0, 'mornings': 0.0, 'quick': 0.0, 'enjoy': 0.0, 'texts': 0.0, 'mtv': 0.0, 'idea': 0.0, 'european': 0.40235947810852507, 'word': 0.0, 'give': 0.0, 'mountains': 0.0, 'far': 0.0, 'brown': 0.0, 'spring': 0.0, 'lazy': 0.0, 'pleasure': 0.0, 'languages': 0.40235947810852507, 'entire': 0.0, 'flock': 0.0}, {'system': 0.0, 'fox': 0.0, 'soul': 0.0, 'taken': 0.0, 'away': 0.12380291634108465, 'family': 0.0, 'blind': 0.12380291634108465, 'account': 0.0, 'born': 0.0, 'live': 0.12380291634108465, 'praising': 0.0, 'serenity': 0.0, 'vokalia': 0.12380291634108465, 'heart': 0.0, 'prog': 0.0, 'djs': 0.0, 'countries': 0.12380291634108465, 'jumps': 0.0, 'quiz': 0.0, 'mistaken': 0.0, 'consonantia': 0.12380291634108465, 'wonderful': 0.0, 'dog': 0.0, 'complete': 0.0, 'like': 0.0, 'sweet': 0.0, 'pain': 0.0, 'ax': 0.0, 'whole': 0.0, 'behind': 0.12380291634108465, 'denouncing': 0.0, 'members': 0.0, 'possession': 0.0, 'mornings': 0.0, 'quick': 0.0, 'enjoy': 0.0, 'texts': 0.12380291634108465, 'mtv': 0.0, 'idea': 0.0, 'european': 0.0, 'word': 0.12380291634108465, 'give': 0.0, 'mountains': 0.12380291634108465, 'far': 0.37140874902325394, 'brown': 0.0, 'spring': 0.0, 'lazy': 0.0, 'pleasure': 0.0, 'languages': 0.0, 'entire': 0.0, 'flock': 0.0}, {'system': 0.0, 'fox': 0.0, 'soul': 0.12380291634108465, 'taken': 0.12380291634108465, 'away': 0.0, 'family': 0.0, 'blind': 0.0, 'account': 0.0, 'born': 0.0, 'live': 0.0, 'praising': 0.0, 'serenity': 0.12380291634108465, 'vokalia': 0.0, 'heart': 0.12380291634108465, 'prog': 0.0, 'djs': 0.0, 'countries': 0.0, 'jumps': 0.0, 'quiz': 0.0, 'mistaken': 0.0, 'consonantia': 0.0, 'wonderful': 0.12380291634108465, 'dog': 0.0, 'complete': 0.0, 'like': 0.12380291634108465, 'sweet': 0.12380291634108465, 'pain': 0.0, 'ax': 0.0, 'whole': 0.12380291634108465, 'behind': 0.0, 'denouncing': 0.0, 'members': 0.0, 'possession': 0.12380291634108465, 'mornings': 0.12380291634108465, 'quick': 0.0, 'enjoy': 0.12380291634108465, 'texts': 0.0, 'mtv': 0.0, 'idea': 0.0, 'european': 0.0, 'word': 0.0, 'give': 0.0, 'mountains': 0.0, 'far': 0.0, 'brown': 0.0, 'spring': 0.12380291634108465, 'lazy': 0.0, 'pleasure': 0.0, 'languages': 0.0, 'entire': 0.12380291634108465, 'flock': 0.0}, {'system': 0.0, 'fox': 0.134119826036175, 'soul': 0.0, 'taken': 0.0, 'away': 0.0, 'family': 0.0, 'blind': 0.0, 'account': 0.0, 'born': 0.0, 'live': 0.0, 'praising': 0.0, 'serenity': 0.0, 'vokalia': 0.0, 'heart': 0.0, 'prog': 0.134119826036175, 'djs': 0.134119826036175, 'countries': 0.0, 'jumps': 0.134119826036175, 'quiz': 0.134119826036175, 'mistaken': 0.0, 'consonantia': 0.0, 'wonderful': 0.0, 'dog': 0.134119826036175, 'complete': 0.0, 'like': 0.0, 'sweet': 0.0, 'pain': 0.0, 'ax': 0.134119826036175, 'whole': 0.0, 'behind': 0.0, 'denouncing': 0.0, 'members': 0.0, 'possession': 0.0, 'mornings': 0.0, 'quick': 0.134119826036175, 'enjoy': 0.0, 'texts': 0.0, 'mtv': 0.134119826036175, 'idea': 0.0, 'european': 0.0, 'word': 0.0, 'give': 0.0, 'mountains': 0.0, 'far': 0.0, 'brown': 0.134119826036175, 'spring': 0.0, 'lazy': 0.134119826036175, 'pleasure': 0.0, 'languages': 0.0, 'entire': 0.0, 'flock': 0.134119826036175}]\n"
          ]
        }
      ]
    },
    {
      "cell_type": "code",
      "metadata": {
        "id": "KH8oiu8be845"
      },
      "source": [
        "\n",
        "def transpose(A):\n",
        "    '''\n",
        "    Parameter: \n",
        "        A - 2D matrix having dimension m*n\n",
        "    Process:\n",
        "        Calculates transpose of given matrix\n",
        "    Output:\n",
        "        ans - 2D matrix having dimension n*m\n",
        "    '''\n",
        "    ans = np.zeros((len(A[0]),len(A)))\n",
        "    for i in range(len(A)):\n",
        "        for j in range(len(A[0])):\n",
        "            ans[j][i] = A[i][j]\n",
        "    return ans\n"
      ],
      "execution_count": 18,
      "outputs": []
    },
    {
      "cell_type": "code",
      "metadata": {
        "id": "A8ZwwwFjfEFn"
      },
      "source": [
        "def matmul(A,X):\n",
        "    '''\n",
        "    Parameter: \n",
        "        A - 2D matrix having dimension m*r\n",
        "        X - 2D matrix having dimension r*n\n",
        "    Process:\n",
        "        matrix multiplication of A and X\n",
        "    Output:\n",
        "        ans - 2D matrix having dimension m*n\n",
        "    '''\n",
        "    \n",
        "    if(type(X)!=list and len(X.shape)==1):\n",
        "        X = X.reshape((len(X), 1))\n",
        "    ans = np.zeros((len(A),len(X[0])))\n",
        "    for i in range(len(A)):\n",
        "        for j in range(len(X[0])):\n",
        "            for k in range(len(X)):\n",
        "                ans[i][j] = ans[i][j] + A[i][k]*X[k][j]\n",
        "    if(type(X)!=list and ans.shape[1]==1):\n",
        "        ans = ans.reshape((len(ans)))\n",
        "    return ans\n"
      ],
      "execution_count": 19,
      "outputs": []
    },
    {
      "cell_type": "code",
      "metadata": {
        "id": "O7Px-NuifQbJ"
      },
      "source": [
        "def SvD(Amatrix):\n",
        "    '''\n",
        "    Parameter:\n",
        "        Amatrix - matrix to be decomposed of dimension m*n\n",
        "    Process:\n",
        "        Implements Jacobi method to find eigenvalues and eigenvectors.\n",
        "        So, eigenvectors are in the V matrix. \n",
        "        S is a list of singular values of Amatrix. To find S, we just find square root \n",
        "        eigenvlues of Amatrix.\n",
        "        We then find UMatrix using the formula U_i = (Amatrix*V_i)/Sigma_i \n",
        "    Output:\n",
        "        U - Orthogonal matrix of dimension m*m \n",
        "        S - List of singular values of Amatrix\n",
        "        VT - Transpose of orthogonal matrix V having dimensions n*n\n",
        "    '''\n",
        "    originalMatrix = Amatrix.copy()\n",
        "    \n",
        "    ROWS=len(Amatrix)\n",
        "    COLS=len(Amatrix[0])\n",
        "\n",
        "    if (ROWS > COLS):\n",
        "        Amatrix = transpose(Amatrix)\n",
        "    B=Amatrix.copy()\n",
        "\n",
        "    \n",
        "\n",
        "    Amatrix = matmul(transpose(Amatrix),Amatrix)\n",
        "\n",
        "    # HERE Amatrix IS CONVERTED TO SQUARE MATRIX THUS ROWS=COLS\n",
        "    ROWS=len(Amatrix)\n",
        "    COLS=len(Amatrix[0])\n",
        "\n",
        "    Amatrix=np.round(Amatrix,decimals=5)\n",
        "    diagonalMatrix = Amatrix.copy()\n",
        "    eigenVectorsMatrix = np.zeros((ROWS,ROWS))\n",
        "    for i in range(0,ROWS):\n",
        "        eigenVectorsMatrix[i][i] = 1\n",
        "    \n",
        "    maximum=1\n",
        "    # Loop is iterated untill the max element does not become 0.\n",
        "    while(maximum>0.001):\n",
        "        # iOfMaxElement is the ith index of the max element other then diagonal\n",
        "        # jOfMaxElement is the jth index of the max element other then diagonal\n",
        "\n",
        "        maximum, iOfMaxElement,jOfMaxElement =math.fabs(diagonalMatrix[0][1]) ,0,1\n",
        "        for i in range(0,len(diagonalMatrix)):\n",
        "            for j in range(0,len(diagonalMatrix[0])):\n",
        "                if(i!=j and math.fabs(diagonalMatrix[i][j]) > maximum):\n",
        "                    maximum = math.fabs(diagonalMatrix[i][j])\n",
        "                    iOfMaxElement = i\n",
        "                    jOfMaxElement = j\n",
        "        theta = 0\n",
        "\n",
        "        if(diagonalMatrix[iOfMaxElement][iOfMaxElement] == diagonalMatrix[jOfMaxElement][jOfMaxElement]):\n",
        "            if(diagonalMatrix[iOfMaxElement][jOfMaxElement] > 0):\n",
        "                theta = pi/4\n",
        "            else:\n",
        "                theta = -1*pi/4\n",
        "        else:\n",
        "            value = 2*diagonalMatrix[iOfMaxElement][jOfMaxElement]/(diagonalMatrix[iOfMaxElement][iOfMaxElement] - diagonalMatrix[jOfMaxElement][jOfMaxElement])\n",
        "            theta = abs(0.5*math.atan(value))\n",
        "        OrthogonalMatrix = np.zeros((len(diagonalMatrix),len(diagonalMatrix[0])))\n",
        "        \n",
        "        for i in range(0,len(diagonalMatrix)):\n",
        "            OrthogonalMatrix[i][i] = 1\n",
        "        OrthogonalMatrix[iOfMaxElement][iOfMaxElement] = math.cos(theta)\n",
        "        OrthogonalMatrix[jOfMaxElement][jOfMaxElement] = OrthogonalMatrix[iOfMaxElement][iOfMaxElement] \n",
        "        OrthogonalMatrix[iOfMaxElement][jOfMaxElement] = math.sin(theta)\n",
        "        OrthogonalMatrix[jOfMaxElement][iOfMaxElement] = -1*OrthogonalMatrix[iOfMaxElement][jOfMaxElement]\n",
        "\n",
        "        \n",
        "        #diagonalMatrix= P^(-1)*D*P     where P^(-1) is P transpose\n",
        "\n",
        "        diagonalMatrix = matmul(transpose(OrthogonalMatrix),diagonalMatrix)\n",
        "        \n",
        "        diagonalMatrix = matmul(diagonalMatrix,OrthogonalMatrix)\n",
        "        \n",
        "        eigenVectorsMatrix = matmul(eigenVectorsMatrix,OrthogonalMatrix)\n",
        "        \n",
        "    # l1 is the list of eigen values which is extracted from the diagonal of the diagonalMatrix.\n",
        "    l1 = []\n",
        "    \n",
        "    for i in range(0,len(diagonalMatrix)):\n",
        "        l1.append(diagonalMatrix[i][i])\n",
        "        \n",
        "    #eigenVectorsMatrix is a list of eigenvectors -- VT\n",
        "    eigenVectorsMatrix=transpose(eigenVectorsMatrix) \n",
        "    \n",
        "    tempList = list(eigenVectorsMatrix.copy())\n",
        "    \n",
        "    for i in range(0,len(tempList)):\n",
        "        tempList[i] = list(tempList[i])\n",
        "        tempList[i].insert(0,l1[i])\n",
        "    \n",
        "    #Sorting the eigen values in descending order and simuntaneously arranging the eigen vectors w.r.t descending eigen values.\n",
        "    tempList.sort(reverse = True)\n",
        "    EigenValueslist=[]\n",
        "    EigenFinalVectorslist=[]\n",
        "    for i in range(0,len(tempList)):\n",
        "        EigenValueslist.append(tempList[i].pop(0))\n",
        "        EigenFinalVectorslist.append(tempList[i])\n",
        "    EigenValuesarr = np.array(EigenValueslist)\n",
        "    #VT is ready now\n",
        "    EigenFinalVectorsTransarr=np.array(EigenFinalVectorslist)\n",
        "\n",
        "    #Initiallizing U matrix\n",
        "    UMatrix=np.zeros((len(B),len(B)))\n",
        "    for i in range(len(B)):\n",
        "        # Ui=(B*Vi)/root(lamda)\n",
        "        mul=matmul((B),(EigenFinalVectorsTransarr[i]))\n",
        "        \n",
        "        UMatrix[i]=mul/math.sqrt(EigenValuesarr[i])\n",
        "    UMatrix = transpose(UMatrix)\n",
        "    finEigVals = []\n",
        "    for i in EigenValuesarr:\n",
        "        if(i > 1e-4): #we check if i!=0 \n",
        "            finEigVals.append(i)\n",
        "    #Singular values are root of every eigen values.\n",
        "    finSingVals = [math.sqrt(i) for i in finEigVals]\n",
        "    finSingVals = np.round(finSingVals,decimals = 6)\n",
        "\n",
        "    #Initiallizing Sigma matrix\n",
        "    Sigma = np.zeros((len(B),len(B[0])))\n",
        "    for i in range(0,min(len(B),len(B[0]))):\n",
        "        Sigma[i][i] = finSingVals[i]\n",
        "    VT = EigenFinalVectorsTransarr\n",
        "\n",
        "    if(len(originalMatrix) > len(originalMatrix[0])):\n",
        "        # For rows>columns we had taken Atranspose above and we had found U*Sigma*VT of AT\n",
        "        # Thus this will be equivalent to V*SigmaT*UT of A.\n",
        "        Sigma = transpose(Sigma)\n",
        "        Utemp = UMatrix.copy()\n",
        "        UMatrix = transpose(EigenFinalVectorsTransarr)\n",
        "        VT = transpose(Utemp)\n",
        "    return UMatrix,finSingVals,VT\n"
      ],
      "execution_count": 20,
      "outputs": []
    },
    {
      "cell_type": "code",
      "metadata": {
        "id": "w8_qCFQ6kgKS"
      },
      "source": [
        "X = pd.DataFrame(tfidfl).T\n",
        "l_2d = X.T.values.tolist()\n",
        "l_2d = np.array(l_2d)\n",
        "l_2d = transpose(l_2d)\n",
        "L,S,R=SvD(l_2d)"
      ],
      "execution_count": 21,
      "outputs": []
    },
    {
      "cell_type": "code",
      "metadata": {
        "colab": {
          "base_uri": "https://localhost:8080/"
        },
        "id": "9PHj4lLzkkGP",
        "outputId": "ab6351ad-87cc-46a7-e7ba-024d0e35f1b1"
      },
      "source": [
        "print(L.shape,S.shape,R.shape)"
      ],
      "execution_count": 22,
      "outputs": [
        {
          "output_type": "stream",
          "name": "stdout",
          "text": [
            "(51, 51) (5,) (5, 5)\n"
          ]
        }
      ]
    },
    {
      "cell_type": "code",
      "metadata": {
        "colab": {
          "base_uri": "https://localhost:8080/"
        },
        "id": "IFYvYsWV8B0v",
        "outputId": "c014bc5b-cd7f-4335-879c-9e968268bb39"
      },
      "source": [
        "S"
      ],
      "execution_count": 23,
      "outputs": [
        {
          "output_type": "execute_result",
          "data": {
            "text/plain": [
              "array([0.804711, 0.539652, 0.485294, 0.464629, 0.446419])"
            ]
          },
          "metadata": {},
          "execution_count": 23
        }
      ]
    },
    {
      "cell_type": "code",
      "metadata": {
        "id": "KhrRQY0_e3NX"
      },
      "source": [
        "\n",
        "def zero_padding(n,U,S,V):\n",
        "    '''\n",
        "    Parameter: \n",
        "        n - integer\n",
        "        U - Matrix having dimension m*m\n",
        "        S - List of singular values\n",
        "        V - Matrix having dimension n*n\n",
        "    Process:\n",
        "        The aim of this function is to use S to make a matrix A which contains n singular \n",
        "        values on its diagonal. Rest all values are 0. Dimensions of A are m*n\n",
        "        Basically, we want to make A such that multiply(U,A,V) is possible\n",
        "    Output:\n",
        "        A - Matrix having dimension m*n\n",
        "    '''\n",
        "    t = []\n",
        "    for i in range(0,n):\n",
        "        t.append(S[i])\n",
        "    #t is the tuple consisting of first n characters of the tuple S (S is sigma)\n",
        "    for i in range(len(S)-n):\n",
        "        t.append(0) #zero_padding t with zeros\n",
        "    \n",
        "    #convert the non-selected singular values to 0 and form a diagonal matrix, store as A\n",
        "    A=[]\n",
        "    for i in range (0,len(S)):\n",
        "        temp = []\n",
        "        for j in range(0,len(S)):\n",
        "            if(j == i):\n",
        "                temp.append(float(t[j]))\n",
        "            else:\n",
        "                temp.append(float(0))\n",
        "        A.append(temp)\n",
        "    newrow = []\n",
        "    for i in range(0,len(S)):\n",
        "        newrow.append(0)\n",
        "    #newrow is a list of zeros having same length as S\n",
        "    for i in range(len(U)-len(S)): \n",
        "        A.append(newrow)\n",
        "        \n",
        "    return A\n",
        "\n",
        "def reconstruct(u,s,v,n):\n",
        "    '''\n",
        "    Parameter: \n",
        "        u - Matrix having dimension m*m\n",
        "        s - List of singular values\n",
        "        v - Matrix having dimension n*n\n",
        "        n - integer\n",
        "    Process:\n",
        "        produces matrix A having m*n dimensions.\n",
        "        Returns the product of multiply(u,A,v)\n",
        "    Output:\n",
        "        m*n matrix\n",
        "    '''\n",
        "    A=zero_padding(n,u,s,v)\n",
        "    return np.round(matmul(matmul(u,A),v),decimals=3)\n",
        "    \n",
        "def frobenius(a,a2): #finds how similar two matrices are\n",
        "    '''\n",
        "    Parameter: \n",
        "        a - Matrix having dimension m*n\n",
        "        a2 - Matrix having dimension m*n\n",
        "    Process:\n",
        "        computes the frobenius norm of the matrix\n",
        "    Output:\n",
        "        an integer (frobenius norm of the two matrices)\n",
        "    '''\n",
        "    \n",
        "    tempi1=(a-a2)**2\n",
        "    tempi2=a**2\n",
        "    sum1,sum2=0,0\n",
        "    \n",
        "    for i in (tempi1):\n",
        "        for j in (i):\n",
        "            sum1+=j\n",
        "    for i in (tempi2):\n",
        "        for j in (i):\n",
        "            sum2+=j\n",
        "    ret = math.sqrt(sum1)/math.sqrt(sum2)\n",
        "    return ret \n",
        "\n",
        "def find_k():\n",
        "    '''\n",
        "    Parameter:\n",
        "        None \n",
        "    Process:\n",
        "        iterates through 1 to number of singular values - 1.\n",
        "        compares the two matrices l_2d and reconstructed matrix of l_2d\n",
        "        Note that l_2d is the original matrix (the one passed into SVD)\n",
        "    Output:\n",
        "        an integer - the number of singular values required to reconstruct a matrix\n",
        "                     whose frobenius norm with l_2d is less than 0.38 \n",
        "    '''\n",
        "    for i in range(1,len(S)):\n",
        "        f=frobenius(l_2d,reconstruct(L,S,R,i))\n",
        "        if f<0.35 :\n",
        "          print(i)\n",
        "          return i\n",
        "\n",
        "\n",
        "def search(q):\n",
        "    q=rem_punct(q)\n",
        "    q=q.lower().split(\" \")\n",
        "    terms = X.index\n",
        "    \n",
        "    query=[]\n",
        "    for i in terms:\n",
        "        if(i in q):\n",
        "            query.append(1)\n",
        "        else:\n",
        "            query.append(0) \n",
        "    query=np.asarray(query)\n",
        "    if 1 not in query:\n",
        "        print(\"Could not find any documents\")\n",
        "    \n",
        "    else:\n",
        "        k = find_k()\n",
        "        print(\"k\",k)\n",
        "        print(\"q\",query)\n",
        "        reconstructed_A = reconstruct(L,S,R,k) \n",
        "        print(reconstructed_A)\n",
        "\n",
        "        score = query.dot(reconstructed_A)\n",
        "        \n",
        "        sort = {}\n",
        "        for i in range(len(score)):\n",
        "            if(score[i]<0):\n",
        "                score[i]=0\n",
        "            sort[i+1] = score[i]\n",
        "        last = {}\n",
        "        for w in sorted(sort, key=sort.get, reverse=True):\n",
        "            last[w]=sort[w]\n",
        "        xAxis=[]\n",
        "        title=\"Document-wise weightage of the string: \"\n",
        "        for i in q: \n",
        "            title=title+\" \"+i\n",
        "        yAxis=[]\n",
        "        \n",
        "        for document,sc in last.items():\n",
        "            print(\"Document: \",document)\n",
        "            xAxis.append(document)\n",
        "            yAxis.append(sc)\n",
        "        \n",
        "        plt.bar(xAxis, yAxis, color ='red',  \n",
        "                width = 0.4) \n",
        "        \n",
        "        plt.xlabel(\"Document number\") \n",
        "        plt.ylabel(\"Relevance-Score\") \n",
        "        plt.title(title) \n",
        "        plt.show() \n",
        "\n"
      ],
      "execution_count": 24,
      "outputs": []
    },
    {
      "cell_type": "code",
      "metadata": {
        "colab": {
          "base_uri": "https://localhost:8080/"
        },
        "id": "c_9-T9oknZHq",
        "outputId": "8d564e8b-67e5-487e-9c68-80802385db47"
      },
      "source": [
        "while(1):\n",
        "    print(\"Please choose an option:\\n\"\n",
        "    + \"1: Search keywords \\n\"\n",
        "    + \"2: View Documents \\n\"\n",
        "    + \"3: Exit\")\n",
        "    opt = int(input())\n",
        "    if(opt == 1):\n",
        "        print(\"Enter keyword you want to search\\n\")\n",
        "        s = input()\n",
        "        print(\"Loading your search results...\")\n",
        "        \n",
        "        search(s)\n",
        "        print(\"\\n\")\n",
        "    elif (opt == 2):\n",
        "        print(\"Enter Document number:\\n\\n\")\n",
        "        doc_n = int(input())\n",
        "\n",
        "        if(doc_n>len(store)):\n",
        "            print(\"There are only \",len(store),\" documents\")\n",
        "            continue\n",
        "        print(store[doc_n - 1])\n",
        "        print(\"\\n\")\n",
        "    elif( opt == 3):\n",
        "        print(\"THANK YOU\")\n",
        "        exit()\n",
        "    else:\n",
        "        print(\"Enter valid input. \")"
      ],
      "execution_count": null,
      "outputs": [
        {
          "output_type": "stream",
          "name": "stdout",
          "text": [
            "Please choose an option:\n",
            "1: Search keywords \n",
            "2: View Documents \n",
            "3: Exit\n"
          ]
        }
      ]
    },
    {
      "cell_type": "code",
      "metadata": {
        "id": "fLvFkyaOgFEX"
      },
      "source": [
        ""
      ],
      "execution_count": null,
      "outputs": []
    }
  ]
}