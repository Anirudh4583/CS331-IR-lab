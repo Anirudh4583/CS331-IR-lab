{
  "nbformat": 4,
  "nbformat_minor": 0,
  "metadata": {
    "colab": {
      "name": "PageRankLab9.ipynb",
      "provenance": [],
      "collapsed_sections": []
    },
    "kernelspec": {
      "name": "python3",
      "display_name": "Python 3"
    },
    "language_info": {
      "name": "python"
    }
  },
  "cells": [
    {
      "cell_type": "code",
      "metadata": {
        "id": "lkdgUHJsoWlP"
      },
      "source": [
        "from google.colab import drive\n",
        "import numpy as np\n",
        "from scipy.sparse import dok_matrix\n",
        "import networkx as nx"
      ],
      "execution_count": null,
      "outputs": []
    },
    {
      "cell_type": "code",
      "metadata": {
        "colab": {
          "base_uri": "https://localhost:8080/"
        },
        "id": "p8kYAqArtarI",
        "outputId": "d01859ca-4115-45de-88ba-8b9f217df465"
      },
      "source": [
        "drive.mount('/content/drive')"
      ],
      "execution_count": null,
      "outputs": [
        {
          "output_type": "stream",
          "name": "stdout",
          "text": [
            "Mounted at /content/drive\n"
          ]
        }
      ]
    },
    {
      "cell_type": "code",
      "metadata": {
        "id": "swXhC1WUtwKM"
      },
      "source": [
        "% cd /content/drive/MyDrive/\n",
        "% ls"
      ],
      "execution_count": null,
      "outputs": []
    },
    {
      "cell_type": "code",
      "metadata": {
        "colab": {
          "base_uri": "https://localhost:8080/"
        },
        "id": "m-SV_DSBt5vj",
        "outputId": "285f02f5-ce32-47c2-f0be-95d6027f5375"
      },
      "source": [
        "A = np.array([\n",
        "  [0, 0, 1, 1],\n",
        "  [0, 1, 0, 0],\n",
        "  [1, 0, 1, 1],\n",
        "  [1, 1, 0, 1],\n",
        "])\n",
        "A = A/np.sum(A, axis=0)\n",
        "v = np.array([1, 1, 1, 1])\n",
        "v = v/np.sum(v)\n",
        "v = v.reshape((4, 1))\n",
        "A"
      ],
      "execution_count": null,
      "outputs": [
        {
          "output_type": "execute_result",
          "data": {
            "text/plain": [
              "array([[0.        , 0.        , 0.5       , 0.33333333],\n",
              "       [0.        , 0.5       , 0.        , 0.        ],\n",
              "       [0.5       , 0.        , 0.5       , 0.33333333],\n",
              "       [0.5       , 0.5       , 0.        , 0.33333333]])"
            ]
          },
          "metadata": {},
          "execution_count": 11
        }
      ]
    },
    {
      "cell_type": "code",
      "metadata": {
        "colab": {
          "base_uri": "https://localhost:8080/",
          "height": 319
        },
        "id": "iBRRHlzxuIGy",
        "outputId": "955a801d-c12d-4917-bbca-a8fbc4aace12"
      },
      "source": [
        "G = nx.DiGraph()\n",
        "for ii, i in enumerate(A):\n",
        "  for jj, j in enumerate(i):\n",
        "    if j>0:\n",
        "      G.add_edge(ii, jj, weight=j)\n",
        "nx.draw(G, with_labels=True)   "
      ],
      "execution_count": null,
      "outputs": [
        {
          "output_type": "display_data",
          "data": {
            "image/png": "[encoded data removed]",
            "text/plain": [
              "<Figure size 432x288 with 1 Axes>"
            ]
          },
          "metadata": {}
        }
      ]
    },
    {
      "cell_type": "code",
      "metadata": {
        "colab": {
          "base_uri": "https://localhost:8080/"
        },
        "id": "VH2fhpCduK2O",
        "outputId": "0f6d589c-f2f1-4be9-c8a2-926d66933c8b"
      },
      "source": [
        "v = [0.25, 0.25, 0.25, 0.25]\n",
        "while True:\n",
        "  new_v = A @ v\n",
        "  if np.allclose(new_v, v):\n",
        "    break\n",
        "  v = new_v\n",
        "v"
      ],
      "execution_count": null,
      "outputs": [
        {
          "output_type": "execute_result",
          "data": {
            "text/plain": [
              "array([3.07692298e-01, 1.49011612e-08, 4.61538442e-01, 2.30769246e-01])"
            ]
          },
          "metadata": {},
          "execution_count": 14
        }
      ]
    },
    {
      "cell_type": "code",
      "metadata": {
        "colab": {
          "base_uri": "https://localhost:8080/"
        },
        "id": "xrs5b-8tuShH",
        "outputId": "8872523e-1397-4e57-ea6f-0eb8be594bda"
      },
      "source": [
        "A = np.array([\n",
        "  [0, 0, 1, 1],\n",
        "  [1, 0, 0, 0],\n",
        "  [1, 1, 0, 1],\n",
        "  [1, 1, 0, 0],\n",
        "])\n",
        "D = np.linalg.inv(np.diag([3, 2, 1, 2]))\n",
        "H = A @ D\n",
        "# A @ D\n",
        "v = np.array([1, 1, 1, 1])\n",
        "N = len(v)\n",
        "v = v/np.sum(v)\n",
        "damping_factor = 0.85\n",
        "iters = 0\n",
        "while True:\n",
        "  new_v = damping_factor * (H @ v) + (1-damping_factor)/N\n",
        "  # print(new_v)\n",
        "  iters+=1\n",
        "  if np.allclose(new_v, v):\n",
        "    break\n",
        "  v = new_v\n",
        "iters, v"
      ],
      "execution_count": null,
      "outputs": [
        {
          "output_type": "execute_result",
          "data": {
            "text/plain": [
              "(16, array([0.36815162, 0.14180823, 0.2879621 , 0.20207804]))"
            ]
          },
          "metadata": {},
          "execution_count": 15
        }
      ]
    },
    {
      "cell_type": "code",
      "metadata": {
        "id": "lhhJtOlpuZgS"
      },
      "source": [
        "# now for the big file\n",
        "G = nx.DiGraph()\n",
        "dims = 281903\n",
        "sparce_matrix = dok_matrix((dims, dims), dtype=np.float32)\n",
        "D = np.zeros(dims)\n",
        "with open('web-Stanford.txt', 'r') as f:\n",
        "  # skipping first 4 comments, can be done by putting condition of '#' but why check thousand times!\n",
        "  for i in range(4):\n",
        "    next(f)\n",
        "  for i in f:\n",
        "    start_node, end_node = list(map(int, i.split()))\n",
        "    G.add_edge(start_node, end_node)\n",
        "    D[start_node-1] = D[start_node-1] + 1\n",
        "with open('web-Stanford.txt', 'r') as f:\n",
        "  # skipping first 4 comments, can be done by putting condition of '#' but why check thousand times!\n",
        "  for i in range(4):\n",
        "    next(f)\n",
        "  for i in f:\n",
        "    start_node, end_node = list(map(int, i.split()))\n",
        "    sparce_matrix[start_node-1, end_node-1] = 1/D[start_node-1]\n",
        "sparce_matrix = sparce_matrix.tocsr()"
      ],
      "execution_count": null,
      "outputs": []
    },
    {
      "cell_type": "code",
      "metadata": {
        "colab": {
          "base_uri": "https://localhost:8080/"
        },
        "id": "wo2HuI1iupRt",
        "outputId": "2a71cceb-15b2-4a32-f6c1-a85c4aad2be3"
      },
      "source": [
        "def get_ranks(H, v, N, dangling_factor=0.85):\n",
        "  iters = 0\n",
        "  while True:\n",
        "    new_v = dangling_factor * (H @ v) + (1-dangling_factor)/N\n",
        "    # print(new_v)\n",
        "    iters+=1\n",
        "    if np.allclose(new_v, v):\n",
        "      break\n",
        "    v = new_v\n",
        "  print(iters)\n",
        "  print(v)\n",
        "  return v\n",
        "v = np.ones(dims)/dims\n",
        "z = get_ranks(sparce_matrix, v, dims)"
      ],
      "execution_count": null,
      "outputs": [
        {
          "output_type": "stream",
          "name": "stdout",
          "text": [
            "37\n",
            "[3.54731947e-06 3.54715507e-06 3.48797011e-06 ... 3.54665501e-06\n",
            " 3.54682833e-06 3.53805941e-06]\n"
          ]
        }
      ]
    },
    {
      "cell_type": "code",
      "metadata": {
        "colab": {
          "base_uri": "https://localhost:8080/"
        },
        "id": "6fDU86REutIr",
        "outputId": "0940c8b2-08f4-4a55-dabc-8084c818e0eb"
      },
      "source": [
        "np.sum(z)"
      ],
      "execution_count": null,
      "outputs": [
        {
          "output_type": "execute_result",
          "data": {
            "text/plain": [
              "0.997621010253663"
            ]
          },
          "metadata": {},
          "execution_count": 18
        }
      ]
    }
  ]
}